{
 "cells": [
  {
   "cell_type": "code",
   "execution_count": 4,
   "id": "47b7a626-5fb7-4207-9957-3f7494dd272a",
   "metadata": {},
   "outputs": [],
   "source": [
    "# Incontext Learning"
   ]
  },
  {
   "cell_type": "code",
   "execution_count": 5,
   "id": "f9f5e23d-9409-4533-97e2-6e722dc4f2da",
   "metadata": {},
   "outputs": [],
   "source": [
    "import openai_api"
   ]
  },
  {
   "cell_type": "code",
   "execution_count": 30,
   "id": "e88bfe20-0338-4439-ab06-18580656f90e",
   "metadata": {},
   "outputs": [],
   "source": [
    "content = []"
   ]
  },
  {
   "cell_type": "code",
   "execution_count": 39,
   "id": "42ac1d09-a1c4-4748-a324-b7a0bee57a70",
   "metadata": {},
   "outputs": [
    {
     "data": {
      "text/plain": [
       "[{'type': 'text', 'text': 'I want to hold your hand'},\n",
       " {'type': 'image_url',\n",
       "  'image_url': 'https://cdn.britannica.com/92/172992-050-7847C661/The-Beatles-1963.jpg'},\n",
       " {'type': 'text', 'text': 'Like a rolling stone'},\n",
       " {'type': 'image_url',\n",
       "  'image_url': 'https://hips.hearstapps.com/hmg-prod/images/gettyimages-3315233.jpg'},\n",
       " {'type': 'text', 'text': 'Billie jean'},\n",
       " {'type': 'image_url',\n",
       "  'image_url': 'https://m.media-amazon.com/images/M/MV5BMTM1NjExNjg1OV5BMl5BanBnXkFtZTcwMTQ0NzIwMw@@._V1_FMjpg_UX1000_.jpg'},\n",
       " {'type': 'text', 'text': 'Gangnam style'},\n",
       " {'type': 'image_url',\n",
       "  'image_url': 'https://www.usatoday.com/gcdn/-mm-/4c08ed4fa25c361210c3858690e3f18cd8810c79/c=0-53-3316-1923/local/-/media/USATODAY/test/2013/12/11//1386790477000-DSC-2029-1.jpg'}]"
      ]
     },
     "execution_count": 39,
     "metadata": {},
     "output_type": "execute_result"
    }
   ],
   "source": [
    "content"
   ]
  },
  {
   "cell_type": "code",
   "execution_count": 32,
   "id": "59b2e1d3-4909-4e2c-9a03-c04059274895",
   "metadata": {},
   "outputs": [],
   "source": [
    "# Beatles\n",
    "\n",
    "example1_text = {\"type\": \"text\", \"text\": \"I want to hold your hand\"}\n",
    "\n",
    "example1_image = {\n",
    "    'type': \"image_url\",\n",
    "    \"image_url\": \"https://cdn.britannica.com/92/172992-050-7847C661/The-Beatles-1963.jpg\"\n",
    "}\n",
    "\n",
    "content.append(example1_text)\n",
    "content.append(example1_image)"
   ]
  },
  {
   "cell_type": "code",
   "execution_count": 34,
   "id": "d13ba7ae-71c5-491e-ab25-2d7a101d1824",
   "metadata": {},
   "outputs": [],
   "source": [
    "# Bob Dylan\n",
    "\n",
    "example1_text = {\"type\": \"text\", \"text\": \"Like a rolling stone\"}\n",
    "\n",
    "example1_image = {\n",
    "    'type': \"image_url\",\n",
    "    \"image_url\": \"https://hips.hearstapps.com/hmg-prod/images/gettyimages-3315233.jpg\"\n",
    "}\n",
    "\n",
    "content.append(example1_text)\n",
    "content.append(example1_image)"
   ]
  },
  {
   "cell_type": "code",
   "execution_count": 36,
   "id": "e6cd29b4-35cf-4ff2-961c-4b1884b38612",
   "metadata": {},
   "outputs": [],
   "source": [
    "# Michael Jackson\n",
    "\n",
    "example1_text = {\"type\": \"text\", \"text\": \"Billie jean\"}\n",
    "\n",
    "example1_image = {\n",
    "    'type': \"image_url\",\n",
    "    \"image_url\": \"https://m.media-amazon.com/images/M/MV5BMTM1NjExNjg1OV5BMl5BanBnXkFtZTcwMTQ0NzIwMw@@._V1_FMjpg_UX1000_.jpg\"\n",
    "}\n",
    "\n",
    "content.append(example1_text)\n",
    "content.append(example1_image)"
   ]
  },
  {
   "cell_type": "code",
   "execution_count": 38,
   "id": "7008abe5-c89f-4306-9f6e-0cf8e068e51a",
   "metadata": {},
   "outputs": [],
   "source": [
    "# Psy\n",
    "\n",
    "example1_text = {\"type\": \"text\", \"text\": \"Gangnam style\"}\n",
    "\n",
    "example1_image = {\n",
    "    'type': \"image_url\",\n",
    "    \"image_url\": \"https://www.usatoday.com/gcdn/-mm-/4c08ed4fa25c361210c3858690e3f18cd8810c79/c=0-53-3316-1923/local/-/media/USATODAY/test/2013/12/11//1386790477000-DSC-2029-1.jpg\"\n",
    "}\n",
    "\n",
    "content.append(example1_text)\n",
    "content.append(example1_image)"
   ]
  },
  {
   "cell_type": "code",
   "execution_count": 45,
   "id": "2b793453-397c-4a33-8e8c-2d745dd5df69",
   "metadata": {},
   "outputs": [],
   "source": [
    "# Ariana Grande\n",
    "\n",
    "example1_text = {\"type\": \"text\", \"text\": \"What text should come with this? Just answer this question with no other explanation\"}\n",
    "\n",
    "example1_image = {\n",
    "    'type': \"image_url\",\n",
    "    \"image_url\": \"https://people.com/thmb/x4lzgy5E1sB2WecJxUje0FTGiWs=/1500x0/filters:no_upscale():max_bytes(150000):strip_icc():focal(975x333:977x335)/ariana-grande-divorce-allegations-071823-tout-230550e499194da2b254c21d35d94f2f.jpg\"\n",
    "}\n",
    "\n",
    "content.append(example1_text)\n",
    "content.append(example1_image)"
   ]
  },
  {
   "cell_type": "code",
   "execution_count": 43,
   "id": "2e25a140-733c-44f5-b921-252de2e5b1f1",
   "metadata": {},
   "outputs": [],
   "source": [
    "content = content[:8]"
   ]
  },
  {
   "cell_type": "code",
   "execution_count": 46,
   "id": "6af9c10b-eccc-4fe3-9e06-e7d3230cfadd",
   "metadata": {},
   "outputs": [
    {
     "data": {
      "text/plain": [
       "[{'type': 'text', 'text': 'I want to hold your hand'},\n",
       " {'type': 'image_url',\n",
       "  'image_url': 'https://cdn.britannica.com/92/172992-050-7847C661/The-Beatles-1963.jpg'},\n",
       " {'type': 'text', 'text': 'Like a rolling stone'},\n",
       " {'type': 'image_url',\n",
       "  'image_url': 'https://hips.hearstapps.com/hmg-prod/images/gettyimages-3315233.jpg'},\n",
       " {'type': 'text', 'text': 'Billie jean'},\n",
       " {'type': 'image_url',\n",
       "  'image_url': 'https://m.media-amazon.com/images/M/MV5BMTM1NjExNjg1OV5BMl5BanBnXkFtZTcwMTQ0NzIwMw@@._V1_FMjpg_UX1000_.jpg'},\n",
       " {'type': 'text', 'text': 'Gangnam style'},\n",
       " {'type': 'image_url',\n",
       "  'image_url': 'https://www.usatoday.com/gcdn/-mm-/4c08ed4fa25c361210c3858690e3f18cd8810c79/c=0-53-3316-1923/local/-/media/USATODAY/test/2013/12/11//1386790477000-DSC-2029-1.jpg'},\n",
       " {'type': 'text',\n",
       "  'text': 'What text should come with this? Just answer this question with no other explanation'},\n",
       " {'type': 'image_url',\n",
       "  'image_url': 'https://people.com/thmb/x4lzgy5E1sB2WecJxUje0FTGiWs=/1500x0/filters:no_upscale():max_bytes(150000):strip_icc():focal(975x333:977x335)/ariana-grande-divorce-allegations-071823-tout-230550e499194da2b254c21d35d94f2f.jpg'}]"
      ]
     },
     "execution_count": 46,
     "metadata": {},
     "output_type": "execute_result"
    }
   ],
   "source": [
    "content"
   ]
  },
  {
   "cell_type": "code",
   "execution_count": 47,
   "id": "e8af7a19-7786-467e-9001-e6e85d0d33e7",
   "metadata": {},
   "outputs": [
    {
     "data": {
      "text/plain": [
       "'Thank U, Next'"
      ]
     },
     "execution_count": 47,
     "metadata": {},
     "output_type": "execute_result"
    }
   ],
   "source": [
    "response = openai_api.vision_api_custom_content(content)\n",
    "\n",
    "response"
   ]
  },
  {
   "cell_type": "code",
   "execution_count": 48,
   "id": "b457ec0c-8650-4b19-aa17-f6fc844ad5d8",
   "metadata": {},
   "outputs": [],
   "source": [
    "foods = []"
   ]
  },
  {
   "cell_type": "code",
   "execution_count": 70,
   "id": "aab96a55-2b7c-4439-8fa4-459b5642cc82",
   "metadata": {},
   "outputs": [
    {
     "data": {
      "text/plain": [
       "[{'type': 'text', 'text': '590 Calories'},\n",
       " {'type': 'image_url',\n",
       "  'image_url': 'https://s7d1.scene7.com/is/image/mcdonalds/Header_BigMac_832x472:nutrition-calculator-tile?resmode=sharp2'},\n",
       " {'type': 'text', 'text': '520 Calories'},\n",
       " {'type': 'image_url',\n",
       "  'image_url': 'https://s7d1.scene7.com/is/image/mcdonalds/DC_202201_0007-005_QuarterPounderwithCheese_832x472:nutrition-calculator-tile?resmode=sharp2'},\n",
       " {'type': 'text', 'text': '740 Calories'},\n",
       " {'type': 'image_url',\n",
       "  'image_url': 'https://s7d1.scene7.com/is/image/mcdonalds/202201_3426-005_DoubleQuarterPounderwithCheese_832x472:nutrition-calculator-tile?resmode=sharp2'},\n",
       " {'type': 'text', 'text': '450 Calories'},\n",
       " {'type': 'image_url',\n",
       "  'image_url': 'https://s7d1.scene7.com/is/image/mcdonalds/Header_DoubleCheeseburger_832x472:nutrition-calculator-tile?resmode=sharp2'},\n",
       " {'type': 'text',\n",
       "  'text': 'How many calories do you think this is? Give me your best estimate, you must output an integer alone (with no other text)'},\n",
       " {'type': 'image_url',\n",
       "  'image_url': 'https://s7d1.scene7.com/is/image/mcdonalds/DC_202201_4282_QuarterPounderCheeseDeluxe_Shredded_832x472:nutrition-calculator-tile?resmode=sharp2'}]"
      ]
     },
     "execution_count": 70,
     "metadata": {},
     "output_type": "execute_result"
    }
   ],
   "source": [
    "foods"
   ]
  },
  {
   "cell_type": "code",
   "execution_count": 49,
   "id": "b18fefb2-8966-45d6-bece-90c8d0660254",
   "metadata": {},
   "outputs": [],
   "source": [
    "# Big Mac\n",
    "\n",
    "example1_text = {\"type\": \"text\", \"text\": \"590 Calories\"}\n",
    "\n",
    "example1_image = {\n",
    "    'type': \"image_url\",\n",
    "    \"image_url\": \"https://s7d1.scene7.com/is/image/mcdonalds/Header_BigMac_832x472:nutrition-calculator-tile?resmode=sharp2\"\n",
    "}\n",
    "\n",
    "foods.append(example1_text)\n",
    "foods.append(example1_image)"
   ]
  },
  {
   "cell_type": "code",
   "execution_count": 51,
   "id": "68ad1e81-f30a-41c7-81b3-28ffe2b9b60b",
   "metadata": {},
   "outputs": [],
   "source": [
    "# Quarter Pounder\n",
    "\n",
    "example1_text = {\"type\": \"text\", \"text\": \"520 Calories\"}\n",
    "\n",
    "example1_image = {\n",
    "    'type': \"image_url\",\n",
    "    \"image_url\": \"https://s7d1.scene7.com/is/image/mcdonalds/DC_202201_0007-005_QuarterPounderwithCheese_832x472:nutrition-calculator-tile?resmode=sharp2\"\n",
    "}\n",
    "\n",
    "foods.append(example1_text)\n",
    "foods.append(example1_image)"
   ]
  },
  {
   "cell_type": "code",
   "execution_count": 55,
   "id": "6c78b683-a2e8-4831-b573-6574a02493b7",
   "metadata": {},
   "outputs": [],
   "source": [
    "# Double Cheeseburger\n",
    "\n",
    "example1_text = {\"type\": \"text\", \"text\": \"450 Calories\"}\n",
    "\n",
    "example1_image = {\n",
    "    'type': \"image_url\",\n",
    "    \"image_url\": \"https://s7d1.scene7.com/is/image/mcdonalds/Header_DoubleCheeseburger_832x472:nutrition-calculator-tile?resmode=sharp2\"\n",
    "}\n",
    "\n",
    "foods.append(example1_text)\n",
    "foods.append(example1_image)"
   ]
  },
  {
   "cell_type": "code",
   "execution_count": 69,
   "id": "9a77c82f-d233-4339-a1f9-cd2d2d4cefca",
   "metadata": {},
   "outputs": [],
   "source": [
    "# Double Cheeseburger\n",
    "\n",
    "example1_text = {\"type\": \"text\", \"text\": \"How many calories do you think this is? Give me your best estimate, you must output an integer alone (with no other text)\"}\n",
    "\n",
    "example1_image = {\n",
    "    'type': \"image_url\",\n",
    "    \"image_url\": \"https://s7d1.scene7.com/is/image/mcdonalds/DC_202201_4282_QuarterPounderCheeseDeluxe_Shredded_832x472:nutrition-calculator-tile?resmode=sharp2\"\n",
    "}\n",
    "\n",
    "foods.append(example1_text)\n",
    "foods.append(example1_image)"
   ]
  },
  {
   "cell_type": "code",
   "execution_count": 67,
   "id": "9b06b1de-6c7c-417d-acee-581f92f58a3f",
   "metadata": {},
   "outputs": [],
   "source": [
    "foods = foods[:8]"
   ]
  },
  {
   "cell_type": "code",
   "execution_count": 72,
   "id": "349f2b9e-21d5-4bb8-b5be-e9f7db2dd97f",
   "metadata": {},
   "outputs": [
    {
     "data": {
      "text/plain": [
       "[{'type': 'text', 'text': '590 Calories'},\n",
       " {'type': 'image_url',\n",
       "  'image_url': 'https://s7d1.scene7.com/is/image/mcdonalds/Header_BigMac_832x472:nutrition-calculator-tile?resmode=sharp2'},\n",
       " {'type': 'text', 'text': '520 Calories'},\n",
       " {'type': 'image_url',\n",
       "  'image_url': 'https://s7d1.scene7.com/is/image/mcdonalds/DC_202201_0007-005_QuarterPounderwithCheese_832x472:nutrition-calculator-tile?resmode=sharp2'},\n",
       " {'type': 'text', 'text': '740 Calories'},\n",
       " {'type': 'image_url',\n",
       "  'image_url': 'https://s7d1.scene7.com/is/image/mcdonalds/202201_3426-005_DoubleQuarterPounderwithCheese_832x472:nutrition-calculator-tile?resmode=sharp2'},\n",
       " {'type': 'text', 'text': '450 Calories'},\n",
       " {'type': 'image_url',\n",
       "  'image_url': 'https://s7d1.scene7.com/is/image/mcdonalds/Header_DoubleCheeseburger_832x472:nutrition-calculator-tile?resmode=sharp2'},\n",
       " {'type': 'text',\n",
       "  'text': 'How many calories do you think this is? Give me your best estimate, you must output an integer alone (with no other text)'},\n",
       " {'type': 'image_url',\n",
       "  'image_url': 'https://s7d1.scene7.com/is/image/mcdonalds/DC_202201_4282_QuarterPounderCheeseDeluxe_Shredded_832x472:nutrition-calculator-tile?resmode=sharp2'}]"
      ]
     },
     "execution_count": 72,
     "metadata": {},
     "output_type": "execute_result"
    }
   ],
   "source": [
    "foods"
   ]
  },
  {
   "cell_type": "code",
   "execution_count": 71,
   "id": "5265e84d-9d7a-4928-9112-213622626617",
   "metadata": {},
   "outputs": [
    {
     "data": {
      "text/plain": [
       "'530'"
      ]
     },
     "execution_count": 71,
     "metadata": {},
     "output_type": "execute_result"
    }
   ],
   "source": [
    "response = openai_api.vision_api_custom_content(foods)\n",
    "\n",
    "response"
   ]
  },
  {
   "cell_type": "code",
   "execution_count": 76,
   "id": "c86d2f80-f610-4180-9d1f-9208a7b0c33b",
   "metadata": {},
   "outputs": [],
   "source": [
    "thumbnails = []"
   ]
  },
  {
   "cell_type": "code",
   "execution_count": 93,
   "id": "528ace77-4c64-4990-bdfb-4ddf94e988ee",
   "metadata": {},
   "outputs": [
    {
     "data": {
      "text/plain": [
       "7"
      ]
     },
     "execution_count": 93,
     "metadata": {},
     "output_type": "execute_result"
    }
   ],
   "source": [
    "len(thumbnails)"
   ]
  },
  {
   "cell_type": "code",
   "execution_count": 78,
   "id": "8863f106-557e-4321-8589-ce36c8999c06",
   "metadata": {},
   "outputs": [],
   "source": [
    "instruction = {\n",
    "    'type': 'text',\n",
    "    'text': 'These are Mr. Beast videos all released around a month ago. Based on the thumbnails and the title and the information/examples available to you, estimate the last video\\'s number of views'\n",
    "}\n",
    "\n",
    "thumbnails.append(instruction)\n"
   ]
  },
  {
   "cell_type": "code",
   "execution_count": 80,
   "id": "59995869-8f9c-4c94-82bc-6a89dd681a40",
   "metadata": {},
   "outputs": [],
   "source": [
    "# Trapped\n",
    "\n",
    "image_path = \"images/Trapped.png\"\n",
    "\n",
    "example1_text = {\"type\": \"text\", \"text\": \"155M views\"}\n",
    "\n",
    "example1_image = {\n",
    "    'type': \"image_url\",\n",
    "    \"image_url\": f\"data:image/jpeg;base64,{openai_api.encode_image(image_path)}\"\n",
    "}\n",
    "\n",
    "thumbnails.append(example1_text)\n",
    "thumbnails.append(example1_image)"
   ]
  },
  {
   "cell_type": "code",
   "execution_count": 83,
   "id": "794cc285-ef1a-4891-b75f-4401b3cf7905",
   "metadata": {},
   "outputs": [],
   "source": [
    "# Jobs\n",
    "\n",
    "image_path = \"images/Jobs.png\"\n",
    "\n",
    "example1_text = {\"type\": \"text\", \"text\": \"126M views\"}\n",
    "\n",
    "example1_image = {\n",
    "    'type': \"image_url\",\n",
    "    \"image_url\": f\"data:image/jpeg;base64,{openai_api.encode_image(image_path)}\"\n",
    "}\n",
    "\n",
    "thumbnails.append(example1_text)\n",
    "thumbnails.append(example1_image)"
   ]
  },
  {
   "cell_type": "code",
   "execution_count": 92,
   "id": "adaeb676-aa0c-41b2-846a-8783b95f862b",
   "metadata": {},
   "outputs": [],
   "source": [
    "# Jobs\n",
    "\n",
    "image_path = \"images/Grocery Store.png\"\n",
    "\n",
    "example1_text = {\"type\": \"text\", \"text\": \"Based on the examples above, estimate how many views this Youtube video has. Just give me a number (an integer; M, for million is also fine) and output no other text besides the descriptioni of each example I gave you and the last one to explain your reasoning\"}\n",
    "\n",
    "example1_image = {\n",
    "    'type': \"image_url\",\n",
    "    \"image_url\": f\"data:image/jpeg;base64,{openai_api.encode_image(image_path)}\"\n",
    "}\n",
    "\n",
    "thumbnails.append(example1_text)\n",
    "thumbnails.append(example1_image)"
   ]
  },
  {
   "cell_type": "code",
   "execution_count": 90,
   "id": "6e97f33e-fc57-473b-957d-f1f2339d3d02",
   "metadata": {},
   "outputs": [],
   "source": [
    "thumbnails = thumbnails[:5]"
   ]
  },
  {
   "cell_type": "code",
   "execution_count": 95,
   "id": "679da78d-39fc-4970-b7f3-bfb352c9ac39",
   "metadata": {},
   "outputs": [
    {
     "data": {
      "text/plain": [
       "7"
      ]
     },
     "execution_count": 95,
     "metadata": {},
     "output_type": "execute_result"
    }
   ],
   "source": [
    "len(thumbnails)"
   ]
  },
  {
   "cell_type": "code",
   "execution_count": 94,
   "id": "ffb4734b-bb96-47f7-be92-58c31e0767a2",
   "metadata": {},
   "outputs": [
    {
     "data": {
      "text/plain": [
       "\"The first example has 155 million views and features an endurance challenge with a significant monetary prize. The second example has 126 million views, with a concept of contrasting jobs with dramatically different salaries.\\n\\nBased on the provided thumbnails and titles, the two MrBeast videos you've shown have themes that involve challenges with high-stakes monetary incentives. These tend to be very popular due to their high entertainment value and the dramatic nature of the events depicted in the content. Typically, videos with sensational content or the promise of significant rewards for participants can generate a lot of interest and views.\\n\\nConsidering the pattern, the third video has a related theme involving an endurance challenge in a grocery store with a daily cash prize. Given the consistent theme of challenges and substantial money prizes, which aligns with MrBeast's popular content style, and assuming it was released approximately at the same time as the other two, it is reasonable to estimate that the third video could have a similar range of views.\\n\\nTherefore, an estimation for the third video, considering the views of the previous ones, would be around:\\n\\n130M\""
      ]
     },
     "execution_count": 94,
     "metadata": {},
     "output_type": "execute_result"
    }
   ],
   "source": [
    "response = openai_api.vision_api_custom_content(thumbnails)\n",
    "\n",
    "response"
   ]
  },
  {
   "cell_type": "code",
   "execution_count": 99,
   "id": "3f3f7855-84ab-4e2d-b901-c11d7aba1647",
   "metadata": {},
   "outputs": [
    {
     "data": {
      "text/plain": [
       "'The image depicts a person in a grocery store, looking somewhat disheveled, with the title \"$10,000 Every Day You Survive In A Grocery Store\" and a timestamp indicating the video is 21 minutes and 32 seconds long. The video is from \"Mr. Beast,\" who is known for challenge videos with large cash prizes.\\n\\nGiven the popularity of Mr. Beast\\'s channel, the engaging content nature, and the fact that the video\\'s premise involves a significant cash prize with a survival challenge, it\\'s reasonable to expect this video to perform well. Considering these factors and the general patterns in the viewership of Mr. Beast\\'s videos, it is estimated that such a video could achieve views in the range of 20M to 50M over a period of several weeks to a few months after release.\\n\\nHowever, without real-time access to YouTube\\'s analytics and given the dynamic nature of video popularity, which depends on many factors such as audience interest, sharing, and YouTube\\'s recommendation algorithm, this should be considered a rough estimate. Actual view counts can be higher or lower based on the aforementioned factors and more.'"
      ]
     },
     "execution_count": 99,
     "metadata": {},
     "output_type": "execute_result"
    }
   ],
   "source": [
    "thumbnail_guess = {\"type\": \"text\", \"text\": \"This is a Mr. beast youtube video released about a month ago. Estimate how many views this Youtube video will get. Just give me a number (an integer; M, for million is also fine) and output no other text besides the description of the image and the explaination for your reasoning\"}\n",
    "\n",
    "image_path = \"images/Grocery Store.png\"\n",
    "thumbnail_image = {\n",
    "    'type': \"image_url\",\n",
    "    \"image_url\": f\"data:image/jpeg;base64,{openai_api.encode_image(image_path)}\"\n",
    "}\n",
    "\n",
    "response = openai_api.vision_api_custom_content([thumbnail_guess, thumbnail_image])\n",
    "\n",
    "response"
   ]
  },
  {
   "cell_type": "code",
   "execution_count": null,
   "id": "8c3c067f-ef6c-4f17-b183-455221f06e2b",
   "metadata": {},
   "outputs": [],
   "source": []
  }
 ],
 "metadata": {
  "kernelspec": {
   "display_name": "Python 3 (ipykernel)",
   "language": "python",
   "name": "python3"
  },
  "language_info": {
   "codemirror_mode": {
    "name": "ipython",
    "version": 3
   },
   "file_extension": ".py",
   "mimetype": "text/x-python",
   "name": "python",
   "nbconvert_exporter": "python",
   "pygments_lexer": "ipython3",
   "version": "3.9.6"
  }
 },
 "nbformat": 4,
 "nbformat_minor": 5
}
